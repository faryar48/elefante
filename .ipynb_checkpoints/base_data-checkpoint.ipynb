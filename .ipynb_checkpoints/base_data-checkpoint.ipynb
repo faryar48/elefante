{
 "cells": [
  {
   "cell_type": "code",
   "execution_count": 75,
   "metadata": {
    "collapsed": false
   },
   "outputs": [
    {
     "data": {
      "text/html": [
       "<div>\n",
       "<table border=\"1\" class=\"dataframe\">\n",
       "  <thead>\n",
       "    <tr style=\"text-align: right;\">\n",
       "      <th></th>\n",
       "      <th>Unnamed: 0</th>\n",
       "      <th>Training/Test</th>\n",
       "      <th>Random #</th>\n",
       "      <th>Account_ID</th>\n",
       "      <th>Value</th>\n",
       "      <th>Deal Outcome (1 Won, 2 Lost, 3 Unq)</th>\n",
       "      <th>Requested Demo</th>\n",
       "      <th>Viewed Pricing</th>\n",
       "      <th>LeadID</th>\n",
       "      <th>LeadID.1</th>\n",
       "      <th>...</th>\n",
       "      <th>company.type</th>\n",
       "      <th>company.ticker</th>\n",
       "      <th>company.metrics.alexaUsRank</th>\n",
       "      <th>company.metrics.alexaGlobalRank</th>\n",
       "      <th>company.metrics.googleRank</th>\n",
       "      <th>company.metrics.employees</th>\n",
       "      <th>company.metrics.marketCap</th>\n",
       "      <th>company.metrics.raised</th>\n",
       "      <th>company.metrics.annualRevenue</th>\n",
       "      <th>company.tech</th>\n",
       "    </tr>\n",
       "  </thead>\n",
       "  <tbody>\n",
       "    <tr>\n",
       "      <th>0</th>\n",
       "      <td>0</td>\n",
       "      <td>NaN</td>\n",
       "      <td>NaN</td>\n",
       "      <td>547369.0</td>\n",
       "      <td>22.0</td>\n",
       "      <td>1.0</td>\n",
       "      <td>0.0</td>\n",
       "      <td>0.0</td>\n",
       "      <td>1006508748</td>\n",
       "      <td>1006508748</td>\n",
       "      <td>...</td>\n",
       "      <td>private</td>\n",
       "      <td>NaN</td>\n",
       "      <td>NaN</td>\n",
       "      <td>NaN</td>\n",
       "      <td>1.0</td>\n",
       "      <td>5.0</td>\n",
       "      <td>NaN</td>\n",
       "      <td>NaN</td>\n",
       "      <td>NaN</td>\n",
       "      <td>NaN</td>\n",
       "    </tr>\n",
       "    <tr>\n",
       "      <th>1</th>\n",
       "      <td>1</td>\n",
       "      <td>NaN</td>\n",
       "      <td>NaN</td>\n",
       "      <td>547901.0</td>\n",
       "      <td>25.0</td>\n",
       "      <td>1.0</td>\n",
       "      <td>0.0</td>\n",
       "      <td>0.0</td>\n",
       "      <td>1006515211</td>\n",
       "      <td>1006515211</td>\n",
       "      <td>...</td>\n",
       "      <td>personal</td>\n",
       "      <td>NaN</td>\n",
       "      <td>NaN</td>\n",
       "      <td>NaN</td>\n",
       "      <td>NaN</td>\n",
       "      <td>NaN</td>\n",
       "      <td>NaN</td>\n",
       "      <td>NaN</td>\n",
       "      <td>NaN</td>\n",
       "      <td>NaN</td>\n",
       "    </tr>\n",
       "    <tr>\n",
       "      <th>2</th>\n",
       "      <td>2</td>\n",
       "      <td>NaN</td>\n",
       "      <td>NaN</td>\n",
       "      <td>NaN</td>\n",
       "      <td>NaN</td>\n",
       "      <td>0.0</td>\n",
       "      <td>0.0</td>\n",
       "      <td>0.0</td>\n",
       "      <td>1006612771</td>\n",
       "      <td>1006612771</td>\n",
       "      <td>...</td>\n",
       "      <td>private</td>\n",
       "      <td>NaN</td>\n",
       "      <td>NaN</td>\n",
       "      <td>14768749.0</td>\n",
       "      <td>NaN</td>\n",
       "      <td>NaN</td>\n",
       "      <td>NaN</td>\n",
       "      <td>NaN</td>\n",
       "      <td>NaN</td>\n",
       "      <td>NaN</td>\n",
       "    </tr>\n",
       "    <tr>\n",
       "      <th>3</th>\n",
       "      <td>3</td>\n",
       "      <td>NaN</td>\n",
       "      <td>NaN</td>\n",
       "      <td>NaN</td>\n",
       "      <td>NaN</td>\n",
       "      <td>0.0</td>\n",
       "      <td>1.0</td>\n",
       "      <td>0.0</td>\n",
       "      <td>1006609841</td>\n",
       "      <td>1006609841</td>\n",
       "      <td>...</td>\n",
       "      <td>NaN</td>\n",
       "      <td>NaN</td>\n",
       "      <td>NaN</td>\n",
       "      <td>NaN</td>\n",
       "      <td>NaN</td>\n",
       "      <td>NaN</td>\n",
       "      <td>NaN</td>\n",
       "      <td>NaN</td>\n",
       "      <td>NaN</td>\n",
       "      <td>NaN</td>\n",
       "    </tr>\n",
       "    <tr>\n",
       "      <th>4</th>\n",
       "      <td>4</td>\n",
       "      <td>NaN</td>\n",
       "      <td>NaN</td>\n",
       "      <td>547763.0</td>\n",
       "      <td>100.0</td>\n",
       "      <td>1.0</td>\n",
       "      <td>0.0</td>\n",
       "      <td>0.0</td>\n",
       "      <td>1006499362</td>\n",
       "      <td>1006499362</td>\n",
       "      <td>...</td>\n",
       "      <td>NaN</td>\n",
       "      <td>NaN</td>\n",
       "      <td>NaN</td>\n",
       "      <td>NaN</td>\n",
       "      <td>NaN</td>\n",
       "      <td>NaN</td>\n",
       "      <td>NaN</td>\n",
       "      <td>NaN</td>\n",
       "      <td>NaN</td>\n",
       "      <td>NaN</td>\n",
       "    </tr>\n",
       "  </tbody>\n",
       "</table>\n",
       "<p>5 rows × 82 columns</p>\n",
       "</div>"
      ],
      "text/plain": [
       "   Unnamed: 0 Training/Test  Random #  Account_ID  Value  \\\n",
       "0           0           NaN       NaN    547369.0   22.0   \n",
       "1           1           NaN       NaN    547901.0   25.0   \n",
       "2           2           NaN       NaN         NaN    NaN   \n",
       "3           3           NaN       NaN         NaN    NaN   \n",
       "4           4           NaN       NaN    547763.0  100.0   \n",
       "\n",
       "   Deal Outcome (1 Won, 2 Lost, 3 Unq)  Requested Demo  Viewed Pricing  \\\n",
       "0                                  1.0             0.0             0.0   \n",
       "1                                  1.0             0.0             0.0   \n",
       "2                                  0.0             0.0             0.0   \n",
       "3                                  0.0             1.0             0.0   \n",
       "4                                  1.0             0.0             0.0   \n",
       "\n",
       "       LeadID    LeadID.1     ...       company.type company.ticker  \\\n",
       "0  1006508748  1006508748     ...            private            NaN   \n",
       "1  1006515211  1006515211     ...           personal            NaN   \n",
       "2  1006612771  1006612771     ...            private            NaN   \n",
       "3  1006609841  1006609841     ...                NaN            NaN   \n",
       "4  1006499362  1006499362     ...                NaN            NaN   \n",
       "\n",
       "  company.metrics.alexaUsRank company.metrics.alexaGlobalRank  \\\n",
       "0                         NaN                             NaN   \n",
       "1                         NaN                             NaN   \n",
       "2                         NaN                      14768749.0   \n",
       "3                         NaN                             NaN   \n",
       "4                         NaN                             NaN   \n",
       "\n",
       "  company.metrics.googleRank company.metrics.employees  \\\n",
       "0                        1.0                       5.0   \n",
       "1                        NaN                       NaN   \n",
       "2                        NaN                       NaN   \n",
       "3                        NaN                       NaN   \n",
       "4                        NaN                       NaN   \n",
       "\n",
       "  company.metrics.marketCap company.metrics.raised  \\\n",
       "0                       NaN                    NaN   \n",
       "1                       NaN                    NaN   \n",
       "2                       NaN                    NaN   \n",
       "3                       NaN                    NaN   \n",
       "4                       NaN                    NaN   \n",
       "\n",
       "  company.metrics.annualRevenue company.tech  \n",
       "0                           NaN          NaN  \n",
       "1                           NaN          NaN  \n",
       "2                           NaN          NaN  \n",
       "3                           NaN          NaN  \n",
       "4                           NaN          NaN  \n",
       "\n",
       "[5 rows x 82 columns]"
      ]
     },
     "execution_count": 75,
     "metadata": {},
     "output_type": "execute_result"
    }
   ],
   "source": [
    "import pandas as pd\n",
    "import numpy as np\n",
    "\n",
    "df = pd.read_csv('base_data.csv')\n",
    "df.head()"
   ]
  },
  {
   "cell_type": "code",
   "execution_count": 76,
   "metadata": {
    "collapsed": false
   },
   "outputs": [
    {
     "data": {
      "text/plain": [
       "array(['Unnamed: 0', 'Training/Test', 'Random #', 'Account_ID', 'Value',\n",
       "       'Deal Outcome (1 Won, 2 Lost, 3 Unq)', 'Requested Demo',\n",
       "       'Viewed Pricing', 'LeadID', 'LeadID.1', 'MQL', 'Lead_Created_Date',\n",
       "       'Lead_Created Date DS', 'Month', 'MHChannel', 'MHSource',\n",
       "       'MHProgram', 'MHCampaign', 'LCChannel', 'LCSource', 'team_size',\n",
       "       'Industry', 'timezone', 'Unqualified_Reason',\n",
       "       'Competitor_During_Sales_Cycle', 'Location', 'Tags', 'Past_CRM',\n",
       "       'Account_ID.1', 'Industry_Type', 'Origin', 'business_role_key',\n",
       "       'Stated_Team_Size', 'LeadConvLogDealID', 'Deal_Created_Date', 'SAL',\n",
       "       'user_id', 'DealOwner', 'SQLCreatedDate', 'SQL', 'from_stage',\n",
       "       'to_stage', 'WonCreatedDate', 'Won_From_Stage', 'Won_To_Stage',\n",
       "       'Won', 'DealScope', 'person.employment.name',\n",
       "       'person.employment.title', 'person.employment.domain',\n",
       "       'person.employment.seniority', 'person.employment.role',\n",
       "       'company.category.sector', 'company.category.industryGroup',\n",
       "       'company.category.industry', 'company.category.subIndustry',\n",
       "       'company.tags', 'company.foundedDate', 'company.location',\n",
       "       'company.timeZone', 'company.utcOffset', 'company.geo.streetNumber',\n",
       "       'company.geo.streetName', 'company.geo.subPremise',\n",
       "       'company.geo.city', 'company.geo.postalCode', 'company.geo.state',\n",
       "       'company.geo.stateCode', 'company.geo.country',\n",
       "       'company.geo.countryCode', 'company.geo.lat', 'company.geo.lng',\n",
       "       'company.type', 'company.ticker', 'company.metrics.alexaUsRank',\n",
       "       'company.metrics.alexaGlobalRank', 'company.metrics.googleRank',\n",
       "       'company.metrics.employees', 'company.metrics.marketCap',\n",
       "       'company.metrics.raised', 'company.metrics.annualRevenue',\n",
       "       'company.tech'], dtype=object)"
      ]
     },
     "execution_count": 76,
     "metadata": {},
     "output_type": "execute_result"
    }
   ],
   "source": [
    "df.columns.values"
   ]
  },
  {
   "cell_type": "code",
   "execution_count": 77,
   "metadata": {
    "collapsed": false
   },
   "outputs": [],
   "source": [
    "df.drop(['Unnamed: 0', 'Training/Test', 'Random #', 'Account_ID', 'LeadID', 'LeadID.1', 'MHProgram', 'MHCampaign', 'Account_ID.1', \n",
    "         'LeadConvLogDealID', 'user_id', 'from_stage',\n",
    "       'to_stage', 'Won_From_Stage', 'Won_To_Stage'], axis = 1, inplace = True)"
   ]
  },
  {
   "cell_type": "code",
   "execution_count": 78,
   "metadata": {
    "collapsed": false
   },
   "outputs": [
    {
     "data": {
      "text/plain": [
       "array(['Value', 'Deal Outcome (1 Won, 2 Lost, 3 Unq)', 'Requested Demo',\n",
       "       'Viewed Pricing', 'MQL', 'Lead_Created_Date',\n",
       "       'Lead_Created Date DS', 'Month', 'MHChannel', 'MHSource',\n",
       "       'LCChannel', 'LCSource', 'team_size', 'Industry', 'timezone',\n",
       "       'Unqualified_Reason', 'Competitor_During_Sales_Cycle', 'Location',\n",
       "       'Tags', 'Past_CRM', 'Industry_Type', 'Origin', 'business_role_key',\n",
       "       'Stated_Team_Size', 'Deal_Created_Date', 'SAL', 'DealOwner',\n",
       "       'SQLCreatedDate', 'SQL', 'WonCreatedDate', 'Won', 'DealScope',\n",
       "       'person.employment.name', 'person.employment.title',\n",
       "       'person.employment.domain', 'person.employment.seniority',\n",
       "       'person.employment.role', 'company.category.sector',\n",
       "       'company.category.industryGroup', 'company.category.industry',\n",
       "       'company.category.subIndustry', 'company.tags',\n",
       "       'company.foundedDate', 'company.location', 'company.timeZone',\n",
       "       'company.utcOffset', 'company.geo.streetNumber',\n",
       "       'company.geo.streetName', 'company.geo.subPremise',\n",
       "       'company.geo.city', 'company.geo.postalCode', 'company.geo.state',\n",
       "       'company.geo.stateCode', 'company.geo.country',\n",
       "       'company.geo.countryCode', 'company.geo.lat', 'company.geo.lng',\n",
       "       'company.type', 'company.ticker', 'company.metrics.alexaUsRank',\n",
       "       'company.metrics.alexaGlobalRank', 'company.metrics.googleRank',\n",
       "       'company.metrics.employees', 'company.metrics.marketCap',\n",
       "       'company.metrics.raised', 'company.metrics.annualRevenue',\n",
       "       'company.tech'], dtype=object)"
      ]
     },
     "execution_count": 78,
     "metadata": {},
     "output_type": "execute_result"
    }
   ],
   "source": [
    "df.columns.values"
   ]
  },
  {
   "cell_type": "markdown",
   "metadata": {},
   "source": [
    "* 'Value' => how much the deal is worth (compare with DealScope)\n",
    "* 'DealScope' => how much the deal is worth (compare with Value) \n",
    "* 'Deal Outcome (1 Won, 2 Lost, 3 Unq)' =>\n",
    "* 'Unqualified_Reason' => rep has to provide a reason as to why a lead is unqualified (list of 8-9 reasons) \n",
    "* 'MQL' => Marketing Qualified Lead\n",
    "* 'Lead_Created_Date' => compare with Lead_Created Date DS\n",
    "* 'Lead_Created Date DS' => compare with Lead_Created Date\n",
    "* 'SAL' => Sales Accepted Lead\n",
    "* 'Deal_Created_Date' => when SAL was created \n",
    "* 'SQL' => Sales Qualified Lead \n",
    "* 'SQLCreatedDate' => when SQL was created \n",
    "* 'Won' => 1 or 0 \n",
    "* 'WonCreatedDate' => \n",
    "* 'Requested Demo' => 1 or 0 \n",
    "* 'Viewed Pricing' => 1 or 0 \n",
    "* 'Month' => ?\n",
    "* 'MHChannel' => Marketing Hierarchy Channel \n",
    "* 'MHSource' => Marketing Hierarchy Source \n",
    "* 'Origin' => Marketing Hierarchy Origin (older-may not be relevant anymore)\n",
    "* 'LCChannel' => Lead Capture Channel\n",
    "* 'LCSource' => Lead Capture Source \n",
    "* 'team_size' => compare with Stated_Team_Size\n",
    "* 'Stated_Team_Size' => compare with team size \n",
    "* 'Industry' => compare with industry type \n",
    "* 'Industry_Type' => compare with industry \n",
    "* 'timezone' => compare with Location\n",
    "* 'Location' => compare with timezone \n",
    "* 'Competitor_During_Sales_Cycle' => another CRM tool that they are looking at \n",
    "* 'Past_CRM' => \n",
    "* 'Tags => tag assigned by sales person\n",
    "* 'business_role_key' => what is their role \n",
    "* 'DealOwner' => rep who owns the deal on Base's side "
   ]
  },
  {
   "cell_type": "code",
   "execution_count": 79,
   "metadata": {
    "collapsed": false
   },
   "outputs": [
    {
     "data": {
      "text/html": [
       "<div>\n",
       "<table border=\"1\" class=\"dataframe\">\n",
       "  <thead>\n",
       "    <tr style=\"text-align: right;\">\n",
       "      <th></th>\n",
       "      <th>match</th>\n",
       "    </tr>\n",
       "  </thead>\n",
       "  <tbody>\n",
       "    <tr>\n",
       "      <th>0</th>\n",
       "      <td>True</td>\n",
       "    </tr>\n",
       "    <tr>\n",
       "      <th>1</th>\n",
       "      <td>True</td>\n",
       "    </tr>\n",
       "    <tr>\n",
       "      <th>2</th>\n",
       "      <td>False</td>\n",
       "    </tr>\n",
       "    <tr>\n",
       "      <th>3</th>\n",
       "      <td>False</td>\n",
       "    </tr>\n",
       "    <tr>\n",
       "      <th>4</th>\n",
       "      <td>True</td>\n",
       "    </tr>\n",
       "  </tbody>\n",
       "</table>\n",
       "</div>"
      ],
      "text/plain": [
       "   match\n",
       "0   True\n",
       "1   True\n",
       "2  False\n",
       "3  False\n",
       "4   True"
      ]
     },
     "execution_count": 79,
     "metadata": {},
     "output_type": "execute_result"
    }
   ],
   "source": [
    "dfmatch = pd.DataFrame(df['Value'] == df['DealScope'], columns = ['match'])\n",
    "dfmatch.head()"
   ]
  },
  {
   "cell_type": "code",
   "execution_count": 80,
   "metadata": {
    "collapsed": false
   },
   "outputs": [
    {
     "data": {
      "text/html": [
       "<div>\n",
       "<table border=\"1\" class=\"dataframe\">\n",
       "  <thead>\n",
       "    <tr style=\"text-align: right;\">\n",
       "      <th></th>\n",
       "      <th>Value</th>\n",
       "      <th>DealScope</th>\n",
       "    </tr>\n",
       "  </thead>\n",
       "  <tbody>\n",
       "    <tr>\n",
       "      <th>2</th>\n",
       "      <td>NaN</td>\n",
       "      <td>75.0</td>\n",
       "    </tr>\n",
       "    <tr>\n",
       "      <th>3</th>\n",
       "      <td>NaN</td>\n",
       "      <td>125.0</td>\n",
       "    </tr>\n",
       "    <tr>\n",
       "      <th>14</th>\n",
       "      <td>NaN</td>\n",
       "      <td>2500.0</td>\n",
       "    </tr>\n",
       "    <tr>\n",
       "      <th>17</th>\n",
       "      <td>NaN</td>\n",
       "      <td>675.0</td>\n",
       "    </tr>\n",
       "    <tr>\n",
       "      <th>20</th>\n",
       "      <td>NaN</td>\n",
       "      <td>825.0</td>\n",
       "    </tr>\n",
       "  </tbody>\n",
       "</table>\n",
       "</div>"
      ],
      "text/plain": [
       "    Value  DealScope\n",
       "2     NaN       75.0\n",
       "3     NaN      125.0\n",
       "14    NaN     2500.0\n",
       "17    NaN      675.0\n",
       "20    NaN      825.0"
      ]
     },
     "execution_count": 80,
     "metadata": {},
     "output_type": "execute_result"
    }
   ],
   "source": [
    "mismatch = dfmatch[dfmatch['match']==False].index.tolist()\n",
    "df.ix[mismatch][['Value', 'DealScope']].head()"
   ]
  },
  {
   "cell_type": "code",
   "execution_count": 81,
   "metadata": {
    "collapsed": false
   },
   "outputs": [],
   "source": [
    "df_mismatch = df.ix[mismatch][['Value', 'DealScope']].head()"
   ]
  },
  {
   "cell_type": "code",
   "execution_count": 82,
   "metadata": {
    "collapsed": false
   },
   "outputs": [
    {
     "data": {
      "text/plain": [
       "27731"
      ]
     },
     "execution_count": 82,
     "metadata": {},
     "output_type": "execute_result"
    }
   ],
   "source": [
    "len(df[['Value']])"
   ]
  },
  {
   "cell_type": "code",
   "execution_count": 83,
   "metadata": {
    "collapsed": false
   },
   "outputs": [
    {
     "data": {
      "text/plain": [
       "27731"
      ]
     },
     "execution_count": 83,
     "metadata": {},
     "output_type": "execute_result"
    }
   ],
   "source": [
    "len(df[['DealScope']])"
   ]
  },
  {
   "cell_type": "code",
   "execution_count": 84,
   "metadata": {
    "collapsed": false
   },
   "outputs": [
    {
     "data": {
      "text/plain": [
       "DealScope    3033\n",
       "dtype: int64"
      ]
     },
     "execution_count": 84,
     "metadata": {},
     "output_type": "execute_result"
    }
   ],
   "source": [
    "df[['DealScope']].count()"
   ]
  },
  {
   "cell_type": "code",
   "execution_count": 85,
   "metadata": {
    "collapsed": false
   },
   "outputs": [
    {
     "data": {
      "text/plain": [
       "Value    1551\n",
       "dtype: int64"
      ]
     },
     "execution_count": 85,
     "metadata": {},
     "output_type": "execute_result"
    }
   ],
   "source": [
    "df[['Value']].count()"
   ]
  },
  {
   "cell_type": "code",
   "execution_count": 86,
   "metadata": {
    "collapsed": false
   },
   "outputs": [
    {
     "data": {
      "text/html": [
       "<div>\n",
       "<table border=\"1\" class=\"dataframe\">\n",
       "  <thead>\n",
       "    <tr style=\"text-align: right;\">\n",
       "      <th></th>\n",
       "      <th>Value</th>\n",
       "      <th>DealScope</th>\n",
       "    </tr>\n",
       "  </thead>\n",
       "  <tbody>\n",
       "  </tbody>\n",
       "</table>\n",
       "</div>"
      ],
      "text/plain": [
       "Empty DataFrame\n",
       "Columns: [Value, DealScope]\n",
       "Index: []"
      ]
     },
     "execution_count": 86,
     "metadata": {},
     "output_type": "execute_result"
    }
   ],
   "source": [
    "df_mismatch.dropna(how = 'any')"
   ]
  },
  {
   "cell_type": "code",
   "execution_count": 87,
   "metadata": {
    "collapsed": false
   },
   "outputs": [
    {
     "data": {
      "text/plain": [
       "0    NaN\n",
       "1    NaN\n",
       "2    NaN\n",
       "3    NaN\n",
       "4    NaN\n",
       "Name: DealValue, dtype: object"
      ]
     },
     "execution_count": 87,
     "metadata": {},
     "output_type": "execute_result"
    }
   ],
   "source": [
    "df['DealValue'] = df['DealScope']\n",
    "df['DealValue'] = df[df['Value'] > df['DealScope']]\n",
    "df['DealValue'].head()\n",
    "# need to find a better way to choose the bigger value out of Value and DealScope"
   ]
  },
  {
   "cell_type": "code",
   "execution_count": 88,
   "metadata": {
    "collapsed": false
   },
   "outputs": [
    {
     "data": {
      "text/html": [
       "<div>\n",
       "<table border=\"1\" class=\"dataframe\">\n",
       "  <thead>\n",
       "    <tr style=\"text-align: right;\">\n",
       "      <th></th>\n",
       "      <th>Value</th>\n",
       "      <th>DealScope</th>\n",
       "    </tr>\n",
       "  </thead>\n",
       "  <tbody>\n",
       "    <tr>\n",
       "      <th>2</th>\n",
       "      <td>NaN</td>\n",
       "      <td>75.0</td>\n",
       "    </tr>\n",
       "    <tr>\n",
       "      <th>3</th>\n",
       "      <td>NaN</td>\n",
       "      <td>125.0</td>\n",
       "    </tr>\n",
       "    <tr>\n",
       "      <th>14</th>\n",
       "      <td>NaN</td>\n",
       "      <td>2500.0</td>\n",
       "    </tr>\n",
       "    <tr>\n",
       "      <th>17</th>\n",
       "      <td>NaN</td>\n",
       "      <td>675.0</td>\n",
       "    </tr>\n",
       "    <tr>\n",
       "      <th>20</th>\n",
       "      <td>NaN</td>\n",
       "      <td>825.0</td>\n",
       "    </tr>\n",
       "  </tbody>\n",
       "</table>\n",
       "</div>"
      ],
      "text/plain": [
       "    Value  DealScope\n",
       "2     NaN       75.0\n",
       "3     NaN      125.0\n",
       "14    NaN     2500.0\n",
       "17    NaN      675.0\n",
       "20    NaN      825.0"
      ]
     },
     "execution_count": 88,
     "metadata": {},
     "output_type": "execute_result"
    }
   ],
   "source": [
    "df_mismatch"
   ]
  },
  {
   "cell_type": "code",
   "execution_count": 89,
   "metadata": {
    "collapsed": false
   },
   "outputs": [
    {
     "data": {
      "text/html": [
       "<div>\n",
       "<table border=\"1\" class=\"dataframe\">\n",
       "  <thead>\n",
       "    <tr style=\"text-align: right;\">\n",
       "      <th></th>\n",
       "      <th>DealValue</th>\n",
       "    </tr>\n",
       "  </thead>\n",
       "  <tbody>\n",
       "    <tr>\n",
       "      <th>2</th>\n",
       "      <td>NaN</td>\n",
       "    </tr>\n",
       "    <tr>\n",
       "      <th>3</th>\n",
       "      <td>NaN</td>\n",
       "    </tr>\n",
       "    <tr>\n",
       "      <th>14</th>\n",
       "      <td>NaN</td>\n",
       "    </tr>\n",
       "    <tr>\n",
       "      <th>17</th>\n",
       "      <td>NaN</td>\n",
       "    </tr>\n",
       "    <tr>\n",
       "      <th>20</th>\n",
       "      <td>NaN</td>\n",
       "    </tr>\n",
       "  </tbody>\n",
       "</table>\n",
       "</div>"
      ],
      "text/plain": [
       "   DealValue\n",
       "2        NaN\n",
       "3        NaN\n",
       "14       NaN\n",
       "17       NaN\n",
       "20       NaN"
      ]
     },
     "execution_count": 89,
     "metadata": {},
     "output_type": "execute_result"
    }
   ],
   "source": [
    "df.ix[mismatch][['DealValue']].head()"
   ]
  },
  {
   "cell_type": "code",
   "execution_count": 90,
   "metadata": {
    "collapsed": false
   },
   "outputs": [
    {
     "data": {
      "text/html": [
       "<div>\n",
       "<table border=\"1\" class=\"dataframe\">\n",
       "  <thead>\n",
       "    <tr style=\"text-align: right;\">\n",
       "      <th></th>\n",
       "      <th>A</th>\n",
       "      <th>B</th>\n",
       "      <th>C</th>\n",
       "    </tr>\n",
       "  </thead>\n",
       "  <tbody>\n",
       "    <tr>\n",
       "      <th>0</th>\n",
       "      <td>1111.0</td>\n",
       "      <td>1111.0</td>\n",
       "      <td>1111.0</td>\n",
       "    </tr>\n",
       "    <tr>\n",
       "      <th>1</th>\n",
       "      <td>1112.0</td>\n",
       "      <td>1112.0</td>\n",
       "      <td>1112.0</td>\n",
       "    </tr>\n",
       "    <tr>\n",
       "      <th>2</th>\n",
       "      <td>1113.0</td>\n",
       "      <td>1113.0</td>\n",
       "      <td>1113.0</td>\n",
       "    </tr>\n",
       "    <tr>\n",
       "      <th>3</th>\n",
       "      <td>1115.0</td>\n",
       "      <td>1114.0</td>\n",
       "      <td>1115.0</td>\n",
       "    </tr>\n",
       "    <tr>\n",
       "      <th>4</th>\n",
       "      <td>1114.0</td>\n",
       "      <td>1115.0</td>\n",
       "      <td>1115.0</td>\n",
       "    </tr>\n",
       "    <tr>\n",
       "      <th>5</th>\n",
       "      <td>1116.1</td>\n",
       "      <td>1116.0</td>\n",
       "      <td>1116.1</td>\n",
       "    </tr>\n",
       "    <tr>\n",
       "      <th>6</th>\n",
       "      <td>1117.0</td>\n",
       "      <td>1117.1</td>\n",
       "      <td>1117.1</td>\n",
       "    </tr>\n",
       "    <tr>\n",
       "      <th>7</th>\n",
       "      <td>NaN</td>\n",
       "      <td>NaN</td>\n",
       "      <td>NaN</td>\n",
       "    </tr>\n",
       "    <tr>\n",
       "      <th>8</th>\n",
       "      <td>NaN</td>\n",
       "      <td>1119.0</td>\n",
       "      <td>1119.0</td>\n",
       "    </tr>\n",
       "    <tr>\n",
       "      <th>9</th>\n",
       "      <td>1112.0</td>\n",
       "      <td>NaN</td>\n",
       "      <td>1112.0</td>\n",
       "    </tr>\n",
       "  </tbody>\n",
       "</table>\n",
       "</div>"
      ],
      "text/plain": [
       "        A       B       C\n",
       "0  1111.0  1111.0  1111.0\n",
       "1  1112.0  1112.0  1112.0\n",
       "2  1113.0  1113.0  1113.0\n",
       "3  1115.0  1114.0  1115.0\n",
       "4  1114.0  1115.0  1115.0\n",
       "5  1116.1  1116.0  1116.1\n",
       "6  1117.0  1117.1  1117.1\n",
       "7     NaN     NaN     NaN\n",
       "8     NaN  1119.0  1119.0\n",
       "9  1112.0     NaN  1112.0"
      ]
     },
     "execution_count": 90,
     "metadata": {},
     "output_type": "execute_result"
    }
   ],
   "source": [
    "sampleFrame = pd.DataFrame({\n",
    "       'A': [1111, 1112.0, 1113, 1115, 1114, 1116.1, 1117, np.NaN, np.NaN, 1112],\n",
    "       'B': [1111, 1112, 1113.0, 1114, 1115, 1116, 1117.1, np.NaN, 1119, np.NaN]\n",
    "       })\n",
    "\n",
    "sampleFrame.loc[(sampleFrame['A'] > sampleFrame['B']), 'C'] = sampleFrame['A']\n",
    "sampleFrame.loc[(sampleFrame['A'] < sampleFrame['B']), 'C'] = sampleFrame['B']\n",
    "sampleFrame.loc[(sampleFrame['A'] == sampleFrame['B']), 'C'] = sampleFrame['B']\n",
    "sampleFrame.loc[(np.isnan(sampleFrame['A'])), 'C'] = sampleFrame['B']\n",
    "sampleFrame.loc[(np.isnan(sampleFrame['B'])), 'C'] = sampleFrame['A']\n",
    "\n",
    "sampleFrame"
   ]
  },
  {
   "cell_type": "code",
   "execution_count": 91,
   "metadata": {
    "collapsed": false
   },
   "outputs": [
    {
     "data": {
      "text/html": [
       "<div>\n",
       "<table border=\"1\" class=\"dataframe\">\n",
       "  <thead>\n",
       "    <tr style=\"text-align: right;\">\n",
       "      <th></th>\n",
       "      <th>A</th>\n",
       "      <th>B</th>\n",
       "      <th>C</th>\n",
       "    </tr>\n",
       "  </thead>\n",
       "  <tbody>\n",
       "    <tr>\n",
       "      <th>0</th>\n",
       "      <td>1111.0</td>\n",
       "      <td>1111.0</td>\n",
       "      <td>1111.0</td>\n",
       "    </tr>\n",
       "    <tr>\n",
       "      <th>1</th>\n",
       "      <td>1112.0</td>\n",
       "      <td>1112.0</td>\n",
       "      <td>1112.0</td>\n",
       "    </tr>\n",
       "    <tr>\n",
       "      <th>2</th>\n",
       "      <td>1113.0</td>\n",
       "      <td>1113.0</td>\n",
       "      <td>1113.0</td>\n",
       "    </tr>\n",
       "    <tr>\n",
       "      <th>3</th>\n",
       "      <td>1115.0</td>\n",
       "      <td>1114.0</td>\n",
       "      <td>1115.0</td>\n",
       "    </tr>\n",
       "    <tr>\n",
       "      <th>4</th>\n",
       "      <td>1114.0</td>\n",
       "      <td>1115.0</td>\n",
       "      <td>1115.0</td>\n",
       "    </tr>\n",
       "    <tr>\n",
       "      <th>5</th>\n",
       "      <td>1116.1</td>\n",
       "      <td>1116.0</td>\n",
       "      <td>1116.1</td>\n",
       "    </tr>\n",
       "    <tr>\n",
       "      <th>6</th>\n",
       "      <td>1117.0</td>\n",
       "      <td>1117.1</td>\n",
       "      <td>1117.1</td>\n",
       "    </tr>\n",
       "    <tr>\n",
       "      <th>7</th>\n",
       "      <td>NaN</td>\n",
       "      <td>NaN</td>\n",
       "      <td>NaN</td>\n",
       "    </tr>\n",
       "    <tr>\n",
       "      <th>8</th>\n",
       "      <td>NaN</td>\n",
       "      <td>1119.0</td>\n",
       "      <td>1119.0</td>\n",
       "    </tr>\n",
       "    <tr>\n",
       "      <th>9</th>\n",
       "      <td>1112.0</td>\n",
       "      <td>NaN</td>\n",
       "      <td>1112.0</td>\n",
       "    </tr>\n",
       "  </tbody>\n",
       "</table>\n",
       "</div>"
      ],
      "text/plain": [
       "        A       B       C\n",
       "0  1111.0  1111.0  1111.0\n",
       "1  1112.0  1112.0  1112.0\n",
       "2  1113.0  1113.0  1113.0\n",
       "3  1115.0  1114.0  1115.0\n",
       "4  1114.0  1115.0  1115.0\n",
       "5  1116.1  1116.0  1116.1\n",
       "6  1117.0  1117.1  1117.1\n",
       "7     NaN     NaN     NaN\n",
       "8     NaN  1119.0  1119.0\n",
       "9  1112.0     NaN  1112.0"
      ]
     },
     "execution_count": 91,
     "metadata": {},
     "output_type": "execute_result"
    }
   ],
   "source": [
    "sampleFrame = pd.DataFrame({\n",
    "       'A': [1111, 1112.0, 1113, 1115, 1114, 1116.1, 1117, np.NaN, np.NaN, 1112],\n",
    "       'B': [1111, 1112, 1113.0, 1114, 1115, 1116, 1117.1, np.NaN, 1119, np.NaN]\n",
    "       })\n",
    "\n",
    "sampleFrame['C'] = sampleFrame[['A', 'B']].max(axis=1)\n",
    "sampleFrame"
   ]
  },
  {
   "cell_type": "code",
   "execution_count": 92,
   "metadata": {
    "collapsed": false
   },
   "outputs": [
    {
     "data": {
      "text/html": [
       "<div>\n",
       "<table border=\"1\" class=\"dataframe\">\n",
       "  <thead>\n",
       "    <tr style=\"text-align: right;\">\n",
       "      <th></th>\n",
       "      <th>DealValue</th>\n",
       "      <th>Value</th>\n",
       "      <th>DealScope</th>\n",
       "    </tr>\n",
       "  </thead>\n",
       "  <tbody>\n",
       "    <tr>\n",
       "      <th>0</th>\n",
       "      <td>22.0</td>\n",
       "      <td>22.0</td>\n",
       "      <td>22.0</td>\n",
       "    </tr>\n",
       "    <tr>\n",
       "      <th>1</th>\n",
       "      <td>25.0</td>\n",
       "      <td>25.0</td>\n",
       "      <td>25.0</td>\n",
       "    </tr>\n",
       "    <tr>\n",
       "      <th>2</th>\n",
       "      <td>75.0</td>\n",
       "      <td>NaN</td>\n",
       "      <td>75.0</td>\n",
       "    </tr>\n",
       "    <tr>\n",
       "      <th>3</th>\n",
       "      <td>125.0</td>\n",
       "      <td>NaN</td>\n",
       "      <td>125.0</td>\n",
       "    </tr>\n",
       "    <tr>\n",
       "      <th>4</th>\n",
       "      <td>100.0</td>\n",
       "      <td>100.0</td>\n",
       "      <td>100.0</td>\n",
       "    </tr>\n",
       "  </tbody>\n",
       "</table>\n",
       "</div>"
      ],
      "text/plain": [
       "   DealValue  Value  DealScope\n",
       "0       22.0   22.0       22.0\n",
       "1       25.0   25.0       25.0\n",
       "2       75.0    NaN       75.0\n",
       "3      125.0    NaN      125.0\n",
       "4      100.0  100.0      100.0"
      ]
     },
     "execution_count": 92,
     "metadata": {},
     "output_type": "execute_result"
    }
   ],
   "source": [
    "df['DealValue'] = df[['Value', 'DealScope']].max(axis = 1)\n",
    "df[['DealValue', 'Value', 'DealScope']].head()"
   ]
  },
  {
   "cell_type": "code",
   "execution_count": 93,
   "metadata": {
    "collapsed": false
   },
   "outputs": [],
   "source": [
    "df.drop(['DealScope', 'Value'], axis = 1, inplace = True)"
   ]
  },
  {
   "cell_type": "code",
   "execution_count": 94,
   "metadata": {
    "collapsed": false
   },
   "outputs": [
    {
     "data": {
      "text/html": [
       "<div>\n",
       "<table border=\"1\" class=\"dataframe\">\n",
       "  <thead>\n",
       "    <tr style=\"text-align: right;\">\n",
       "      <th></th>\n",
       "      <th>Lead_Created_Date</th>\n",
       "      <th>Lead_Created Date DS</th>\n",
       "    </tr>\n",
       "  </thead>\n",
       "  <tbody>\n",
       "    <tr>\n",
       "      <th>0</th>\n",
       "      <td>2016-01-02-04-39</td>\n",
       "      <td>2016-01-02</td>\n",
       "    </tr>\n",
       "    <tr>\n",
       "      <th>1</th>\n",
       "      <td>2016-01-02-09-33</td>\n",
       "      <td>2016-01-02</td>\n",
       "    </tr>\n",
       "    <tr>\n",
       "      <th>2</th>\n",
       "      <td>2016-01-04-03-49</td>\n",
       "      <td>2016-01-04</td>\n",
       "    </tr>\n",
       "    <tr>\n",
       "      <th>3</th>\n",
       "      <td>2016-01-04-03-17</td>\n",
       "      <td>2016-01-04</td>\n",
       "    </tr>\n",
       "    <tr>\n",
       "      <th>4</th>\n",
       "      <td>2016-01-02-05-55</td>\n",
       "      <td>2016-01-02</td>\n",
       "    </tr>\n",
       "  </tbody>\n",
       "</table>\n",
       "</div>"
      ],
      "text/plain": [
       "  Lead_Created_Date Lead_Created Date DS\n",
       "0  2016-01-02-04-39           2016-01-02\n",
       "1  2016-01-02-09-33           2016-01-02\n",
       "2  2016-01-04-03-49           2016-01-04\n",
       "3  2016-01-04-03-17           2016-01-04\n",
       "4  2016-01-02-05-55           2016-01-02"
      ]
     },
     "execution_count": 94,
     "metadata": {},
     "output_type": "execute_result"
    }
   ],
   "source": [
    "dfmatch = pd.DataFrame(df['Lead_Created_Date'] == df['Lead_Created Date DS'], columns = ['match'])\n",
    "mismatch = dfmatch[dfmatch['match']==False].index.tolist()\n",
    "df.ix[mismatch][['Lead_Created_Date', 'Lead_Created Date DS']].head()"
   ]
  },
  {
   "cell_type": "code",
   "execution_count": 95,
   "metadata": {
    "collapsed": false
   },
   "outputs": [
    {
     "data": {
      "text/plain": [
       "0    2016-01-02\n",
       "1    2016-01-02\n",
       "2    2016-01-04\n",
       "3    2016-01-04\n",
       "4    2016-01-02\n",
       "Name: Lead_Created_Date_Only, dtype: object"
      ]
     },
     "execution_count": 95,
     "metadata": {},
     "output_type": "execute_result"
    }
   ],
   "source": [
    "df['Lead_Created_Date_Only'] = df['Lead_Created_Date'].str[:10]\n",
    "df['Lead_Created_Date_Only'].head()"
   ]
  },
  {
   "cell_type": "code",
   "execution_count": 99,
   "metadata": {
    "collapsed": false
   },
   "outputs": [
    {
     "data": {
      "text/html": [
       "<div>\n",
       "<table border=\"1\" class=\"dataframe\">\n",
       "  <thead>\n",
       "    <tr style=\"text-align: right;\">\n",
       "      <th></th>\n",
       "      <th>A</th>\n",
       "      <th>B</th>\n",
       "    </tr>\n",
       "  </thead>\n",
       "  <tbody>\n",
       "    <tr>\n",
       "      <th>3</th>\n",
       "      <td>1115.0</td>\n",
       "      <td>1114.0</td>\n",
       "    </tr>\n",
       "    <tr>\n",
       "      <th>4</th>\n",
       "      <td>1114.0</td>\n",
       "      <td>1115.0</td>\n",
       "    </tr>\n",
       "    <tr>\n",
       "      <th>5</th>\n",
       "      <td>1116.1</td>\n",
       "      <td>1116.0</td>\n",
       "    </tr>\n",
       "    <tr>\n",
       "      <th>6</th>\n",
       "      <td>1117.0</td>\n",
       "      <td>1117.1</td>\n",
       "    </tr>\n",
       "    <tr>\n",
       "      <th>7</th>\n",
       "      <td>NaN</td>\n",
       "      <td>NaN</td>\n",
       "    </tr>\n",
       "    <tr>\n",
       "      <th>8</th>\n",
       "      <td>NaN</td>\n",
       "      <td>1119.0</td>\n",
       "    </tr>\n",
       "    <tr>\n",
       "      <th>9</th>\n",
       "      <td>1112.0</td>\n",
       "      <td>NaN</td>\n",
       "    </tr>\n",
       "  </tbody>\n",
       "</table>\n",
       "</div>"
      ],
      "text/plain": [
       "        A       B\n",
       "3  1115.0  1114.0\n",
       "4  1114.0  1115.0\n",
       "5  1116.1  1116.0\n",
       "6  1117.0  1117.1\n",
       "7     NaN     NaN\n",
       "8     NaN  1119.0\n",
       "9  1112.0     NaN"
      ]
     },
     "execution_count": 99,
     "metadata": {},
     "output_type": "execute_result"
    }
   ],
   "source": [
    "def mismatch_finder(df, col1, col2): \n",
    "    dfmatch = pd.DataFrame(df[col1] == df[col2], columns = ['match'])\n",
    "    mismatch = dfmatch[dfmatch['match']==False].index.tolist()\n",
    "    return df.ix[mismatch][[col1, col2]]\n",
    "    \n",
    "    \n",
    "# mismatch_finder(df, 'Lead_Created_Date_Only', 'Lead_Created Date DS')\n",
    "mismatch_finder(sampleFrame, 'A', 'B')"
   ]
  },
  {
   "cell_type": "code",
   "execution_count": null,
   "metadata": {
    "collapsed": true
   },
   "outputs": [],
   "source": [
    "# checked and they're the same and now we are dropping the created date only "
   ]
  },
  {
   "cell_type": "code",
   "execution_count": null,
   "metadata": {
    "collapsed": true
   },
   "outputs": [],
   "source": []
  }
 ],
 "metadata": {
  "kernelspec": {
   "display_name": "Python 2",
   "language": "python",
   "name": "python2"
  },
  "language_info": {
   "codemirror_mode": {
    "name": "ipython",
    "version": 2
   },
   "file_extension": ".py",
   "mimetype": "text/x-python",
   "name": "python",
   "nbconvert_exporter": "python",
   "pygments_lexer": "ipython2",
   "version": "2.7.11"
  }
 },
 "nbformat": 4,
 "nbformat_minor": 0
}
